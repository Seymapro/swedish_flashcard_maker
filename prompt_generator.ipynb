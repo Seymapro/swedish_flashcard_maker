{
 "cells": [
  {
   "cell_type": "code",
   "execution_count": 13,
   "id": "c6680959-e6a9-4a44-80ed-604bb957a017",
   "metadata": {},
   "outputs": [],
   "source": [
    "import base64\n",
    "import os\n",
    "import json\n",
    "import logging\n",
    "import csv\n",
    "import time\n",
    "from google import genai\n",
    "from google.genai import types"
   ]
  },
  {
   "cell_type": "code",
   "execution_count": 7,
   "id": "1c5ed75b-1e3b-435e-936f-06bc16594611",
   "metadata": {},
   "outputs": [],
   "source": [
    "logging.basicConfig(\n",
    "    level=logging.INFO,\n",
    "    format=\"%(asctime)s - %(name)s - %(levelname)s - %(filename)s:%(lineno)d - %(message)s\",\n",
    "    handlers=[\n",
    "        logging.FileHandler(\"prompt_generation.log\", mode=\"a\")\n",
    "    ]\n",
    ")\n",
    "\n",
    "logger = logging.getLogger(\"Titty\")"
   ]
  },
  {
   "cell_type": "code",
   "execution_count": 21,
   "id": "fa84fb5d-06df-4931-8a10-3aaa06842c04",
   "metadata": {},
   "outputs": [],
   "source": [
    "client = genai.Client(api_key=\"your_api_key_here\")"
   ]
  },
  {
   "cell_type": "code",
   "execution_count": 22,
   "id": "fbd5dd15-9cf4-46ff-ac71-8b70f178fb23",
   "metadata": {},
   "outputs": [],
   "source": [
    "generate_content_config = types.GenerateContentConfig(\n",
    "        response_mime_type=\"application/json\",\n",
    "        response_schema=genai.types.Schema(\n",
    "            type = genai.types.Type.OBJECT,\n",
    "            required = [\"prompt\"],\n",
    "            properties = {\n",
    "                \"prompt\": genai.types.Schema(\n",
    "                    type = genai.types.Type.STRING,\n",
    "                ),\n",
    "            },\n",
    "        ),\n",
    "    )"
   ]
  },
  {
   "cell_type": "code",
   "execution_count": 23,
   "id": "5ca86200-2c73-42a9-99ef-5774815e68be",
   "metadata": {},
   "outputs": [],
   "source": [
    "def generate_prompt(word: str, word_type: str) -> str:\n",
    "    contents = [\n",
    "        types.Content(\n",
    "            role=\"user\",\n",
    "            parts=[\n",
    "                types.Part.from_text(text=f\"\"\"Create a simple, clear, and engaging English textbook illustration prompt for the {word_type} \"{word}\". \n",
    "\n",
    "    Requirements:\n",
    "    - The illustration should visually represent the meaning of the word.\n",
    "    - It must NOT contain any text or words in the image.\n",
    "    - Add that it should follow the style of standard educational textbook illustrations.\n",
    "    - Provide ONLY ONE well-defined prompt.\n",
    "\n",
    "    Example Format:\n",
    "    \\\"A young girl is sitting on a park bench, reading a book, with a friendly dog lying beside her in a children's English textbook format.\\\"  \n",
    "\n",
    "    Now, generate a prompt for the {word_type} \"{word}\".\"\"\"),\n",
    "            ],\n",
    "        ),\n",
    "    ]\n",
    "\n",
    "    try:\n",
    "        json_str = \"\"\n",
    "        for chunk in client.models.generate_content_stream(\n",
    "            model=\"gemini-2.0-flash\",\n",
    "            contents=contents,\n",
    "            config=generate_content_config,\n",
    "        ):\n",
    "            json_str += chunk.text\n",
    "\n",
    "        prompt = json.loads(json_str)[\"prompt\"]\n",
    "\n",
    "        logger.info(f\"[SUCCESS] {word} ({word_type}):: {prompt}\")\n",
    "\n",
    "        return prompt\n",
    "\n",
    "    except Exception as err:\n",
    "        logger.error(f\"[FUCKED] {word} ({word_type}):: {err!r}\")\n",
    "        return None"
   ]
  },
  {
   "cell_type": "code",
   "execution_count": 11,
   "id": "d0efe06b-643c-48b2-a776-a74288348f59",
   "metadata": {},
   "outputs": [],
   "source": [
    "with open(\"./swedish_wordlist.csv\", \"r\", encoding=\"UTF-8\") as swedish_wordlist:\n",
    "    reader = csv.DictReader(swedish_wordlist)\n",
    "    wordlist = list(reader)"
   ]
  },
  {
   "cell_type": "code",
   "execution_count": 18,
   "id": "6f68059f-57bd-47db-b2e7-f60a3d6a42a8",
   "metadata": {},
   "outputs": [],
   "source": [
    "with open(\"./wordlist.csv\", \"r\", encoding=\"UTF-8\") as wordlist_f:\n",
    "    reader = csv.DictReader(wordlist_f)\n",
    "    wordlist_ids = [word_obj[\"id\"] for word_obj in reader]"
   ]
  },
  {
   "cell_type": "code",
   "execution_count": null,
   "id": "d7578644-d510-420e-a06c-7fa50e16c015",
   "metadata": {},
   "outputs": [],
   "source": [
    "for word_obj in wordlist:\n",
    "    if word_obj[\"Index\"] in wordlist_ids:\n",
    "        continue\n",
    "    \n",
    "    time.sleep(5)\n",
    "    \n",
    "    prompt = generate_prompt(word_obj[\"English\"], word_obj[\"Word Type\"])\n",
    "    if prompt is None:\n",
    "        continue\n",
    "\n",
    "    with open(\"./wordlist.csv\", \"a\", encoding=\"UTF-8\") as wordlist_f:\n",
    "        wordlist_f.write(f\"\\\"{word_obj['Index']}\\\",\\\"{word_obj['English']}\\\",\\\"{word_obj['Swedish']}\\\",\\\"{word_obj['Word Type']}\\\",\\\"{prompt}\\\"\\n\")"
   ]
  },
  {
   "cell_type": "code",
   "execution_count": null,
   "id": "50b1e9aa-c7c7-4180-a1f3-f463255d547e",
   "metadata": {},
   "outputs": [],
   "source": []
  }
 ],
 "metadata": {
  "kernelspec": {
   "display_name": "Python 3 (ipykernel)",
   "language": "python",
   "name": "python3"
  },
  "language_info": {
   "codemirror_mode": {
    "name": "ipython",
    "version": 3
   },
   "file_extension": ".py",
   "mimetype": "text/x-python",
   "name": "python",
   "nbconvert_exporter": "python",
   "pygments_lexer": "ipython3",
   "version": "3.11.2"
  }
 },
 "nbformat": 4,
 "nbformat_minor": 5
}
