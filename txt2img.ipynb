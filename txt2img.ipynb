{
 "cells": [
  {
   "cell_type": "code",
   "execution_count": 4,
   "id": "e591d557-1864-41c2-ba4b-cc7e91691055",
   "metadata": {
    "scrolled": true
   },
   "outputs": [
    {
     "name": "stdout",
     "output_type": "stream",
     "text": [
      "Collecting google-genai\n",
      "  Downloading google_genai-1.7.0-py3-none-any.whl (144 kB)\n",
      "\u001b[2K     \u001b[90m━━━━━━━━━━━━━━━━━━━━━━━━━━━━━━━━━━━━━━━\u001b[0m \u001b[32m144.7/144.7 kB\u001b[0m \u001b[31m4.6 MB/s\u001b[0m eta \u001b[36m0:00:00\u001b[0m\n",
      "\u001b[?25hCollecting anyio<5.0.0,>=4.8.0\n",
      "  Downloading anyio-4.9.0-py3-none-any.whl (100 kB)\n",
      "\u001b[2K     \u001b[90m━━━━━━━━━━━━━━━━━━━━━━━━━━━━━━━━━━━━━━\u001b[0m \u001b[32m100.9/100.9 kB\u001b[0m \u001b[31m35.1 MB/s\u001b[0m eta \u001b[36m0:00:00\u001b[0m\n",
      "\u001b[?25hRequirement already satisfied: google-auth<3.0.0,>=2.14.1 in /home/nigella/code/venv/lib/python3.11/site-packages (from google-genai) (2.38.0)\n",
      "Collecting httpx<1.0.0,>=0.28.1\n",
      "  Downloading httpx-0.28.1-py3-none-any.whl (73 kB)\n",
      "\u001b[2K     \u001b[90m━━━━━━━━━━━━━━━━━━━━━━━━━━━━━━━━━━━━━━━━\u001b[0m \u001b[32m73.5/73.5 kB\u001b[0m \u001b[31m28.8 MB/s\u001b[0m eta \u001b[36m0:00:00\u001b[0m\n",
      "\u001b[?25hRequirement already satisfied: pydantic<3.0.0,>=2.0.0 in /home/nigella/code/venv/lib/python3.11/site-packages (from google-genai) (2.10.6)\n",
      "Requirement already satisfied: requests<3.0.0,>=2.28.1 in /home/nigella/code/venv/lib/python3.11/site-packages (from google-genai) (2.32.3)\n",
      "Requirement already satisfied: websockets<15.1.0,>=13.0.0 in /home/nigella/code/venv/lib/python3.11/site-packages (from google-genai) (15.0.1)\n",
      "Requirement already satisfied: typing-extensions<5.0.0,>=4.11.0 in /home/nigella/code/venv/lib/python3.11/site-packages (from google-genai) (4.12.2)\n",
      "Requirement already satisfied: idna>=2.8 in /home/nigella/code/venv/lib/python3.11/site-packages (from anyio<5.0.0,>=4.8.0->google-genai) (3.7)\n",
      "Requirement already satisfied: sniffio>=1.1 in /home/nigella/code/venv/lib/python3.11/site-packages (from anyio<5.0.0,>=4.8.0->google-genai) (1.3.1)\n",
      "Requirement already satisfied: cachetools<6.0,>=2.0.0 in /home/nigella/code/venv/lib/python3.11/site-packages (from google-auth<3.0.0,>=2.14.1->google-genai) (5.5.2)\n",
      "Requirement already satisfied: pyasn1-modules>=0.2.1 in /home/nigella/code/venv/lib/python3.11/site-packages (from google-auth<3.0.0,>=2.14.1->google-genai) (0.4.1)\n",
      "Requirement already satisfied: rsa<5,>=3.1.4 in /home/nigella/code/venv/lib/python3.11/site-packages (from google-auth<3.0.0,>=2.14.1->google-genai) (4.9)\n",
      "Requirement already satisfied: certifi in /home/nigella/code/venv/lib/python3.11/site-packages (from httpx<1.0.0,>=0.28.1->google-genai) (2024.6.2)\n",
      "Requirement already satisfied: httpcore==1.* in /home/nigella/code/venv/lib/python3.11/site-packages (from httpx<1.0.0,>=0.28.1->google-genai) (1.0.5)\n",
      "Requirement already satisfied: h11<0.15,>=0.13 in /home/nigella/code/venv/lib/python3.11/site-packages (from httpcore==1.*->httpx<1.0.0,>=0.28.1->google-genai) (0.14.0)\n",
      "Requirement already satisfied: annotated-types>=0.6.0 in /home/nigella/code/venv/lib/python3.11/site-packages (from pydantic<3.0.0,>=2.0.0->google-genai) (0.7.0)\n",
      "Requirement already satisfied: pydantic-core==2.27.2 in /home/nigella/code/venv/lib/python3.11/site-packages (from pydantic<3.0.0,>=2.0.0->google-genai) (2.27.2)\n",
      "Requirement already satisfied: charset-normalizer<4,>=2 in /home/nigella/code/venv/lib/python3.11/site-packages (from requests<3.0.0,>=2.28.1->google-genai) (3.3.2)\n",
      "Requirement already satisfied: urllib3<3,>=1.21.1 in /home/nigella/code/venv/lib/python3.11/site-packages (from requests<3.0.0,>=2.28.1->google-genai) (2.2.2)\n",
      "Requirement already satisfied: pyasn1<0.7.0,>=0.4.6 in /home/nigella/code/venv/lib/python3.11/site-packages (from pyasn1-modules>=0.2.1->google-auth<3.0.0,>=2.14.1->google-genai) (0.6.1)\n",
      "Installing collected packages: anyio, httpx, google-genai\n",
      "  Attempting uninstall: anyio\n",
      "    Found existing installation: anyio 4.4.0\n",
      "    Uninstalling anyio-4.4.0:\n",
      "      Successfully uninstalled anyio-4.4.0\n",
      "  Attempting uninstall: httpx\n",
      "    Found existing installation: httpx 0.27.0\n",
      "    Uninstalling httpx-0.27.0:\n",
      "      Successfully uninstalled httpx-0.27.0\n",
      "Successfully installed anyio-4.9.0 google-genai-1.7.0 httpx-0.28.1\n",
      "Note: you may need to restart the kernel to use updated packages.\n"
     ]
    }
   ],
   "source": [
    "%pip install google-genai"
   ]
  },
  {
   "cell_type": "code",
   "execution_count": 20,
   "id": "85907cde-f801-4e7b-a43c-441c36e6f660",
   "metadata": {},
   "outputs": [],
   "source": [
    "from google import genai\n",
    "from google.genai import types\n",
    "from PIL import Image\n",
    "from io import BytesIO\n",
    "import base64\n",
    "import os\n",
    "import json\n",
    "import logging\n",
    "import time"
   ]
  },
  {
   "cell_type": "code",
   "execution_count": 6,
   "id": "0b9789ed-4075-4dff-b7a7-406ffd2bc627",
   "metadata": {},
   "outputs": [],
   "source": [
    "client = genai.Client(api_key=\"your_api_key_here\")"
   ]
  },
  {
   "cell_type": "code",
   "execution_count": 10,
   "id": "10680f72-6b77-4fd5-951c-29f34cff6760",
   "metadata": {},
   "outputs": [],
   "source": [
    "IMAGE_DIR = \"./imagen3_images\""
   ]
  },
  {
   "cell_type": "code",
   "execution_count": 15,
   "id": "4788b0bb-1ccf-4d66-b884-2f028b97f787",
   "metadata": {},
   "outputs": [],
   "source": [
    "logging.basicConfig(\n",
    "    level=logging.INFO,\n",
    "    format=\"%(asctime)s - %(name)s - %(levelname)s - %(filename)s:%(lineno)d - %(message)s\",\n",
    "    handlers=[\n",
    "        logging.FileHandler(\"txt2img.log\", mode=\"a\")\n",
    "    ]\n",
    ")\n",
    "\n",
    "logger = logging.getLogger(\"Titty\")"
   ]
  },
  {
   "cell_type": "code",
   "execution_count": 13,
   "id": "bb92e39c-e20e-44af-8020-117ab67b1f24",
   "metadata": {},
   "outputs": [],
   "source": [
    "with open(\"./new_prompts.json\", \"r\", encoding=\"UTF-8\") as json_f:\n",
    "    json_data = json.load(json_f)"
   ]
  },
  {
   "cell_type": "code",
   "execution_count": 28,
   "id": "5be2b5d3-ecba-4bb6-bab9-052881839618",
   "metadata": {},
   "outputs": [],
   "source": [
    "to_skip = [filename.split(\".\")[0] for filename in os.listdir(IMAGE_DIR) if filename.endswith(\".png\")]"
   ]
  },
  {
   "cell_type": "code",
   "execution_count": 32,
   "id": "906de950-ac43-4989-8e70-283f1915893a",
   "metadata": {},
   "outputs": [],
   "source": [
    "fucked_ids = []\n",
    "\n",
    "for word_obj in json_data:\n",
    "    if word_obj[\"id\"] in to_skip:\n",
    "        continue\n",
    "    \n",
    "    try:\n",
    "        response = client.models.generate_content(\n",
    "            model=\"gemini-2.0-flash-exp-image-generation\",\n",
    "            contents=f\"Create this image: {word_obj['prompt']}\",\n",
    "            config=types.GenerateContentConfig(\n",
    "              response_modalities=['Text', 'Image']\n",
    "            )\n",
    "        )\n",
    "\n",
    "        for part in response.candidates[0].content.parts:\n",
    "            if part.inline_data is not None:\n",
    "                image = Image.open(BytesIO((part.inline_data.data)))\n",
    "                image.save(f\"{IMAGE_DIR}/{word_obj['id']}.png\")\n",
    "    except Exception as err:\n",
    "        logger.error(f\"[FUCKED] {word_obj!r}:: {err}\")\n",
    "        fucked_ids.append(word_obj[\"id\"])\n",
    "\n",
    "        with open(\"txt2img_fucked.json\", \"w\", encoding=\"UTF-8\") as fucked_f:\n",
    "            fucked_f.write(json.dumps(fucked_ids, ensure_ascii=False, indent=4))\n",
    "        continue\n",
    "\n",
    "    time.sleep(7)\n",
    "    logger.info(f\"[SUCCESS] {word_obj['word']} created successfully!\")"
   ]
  }
 ],
 "metadata": {
  "kernelspec": {
   "display_name": "Python 3 (ipykernel)",
   "language": "python",
   "name": "python3"
  },
  "language_info": {
   "codemirror_mode": {
    "name": "ipython",
    "version": 3
   },
   "file_extension": ".py",
   "mimetype": "text/x-python",
   "name": "python",
   "nbconvert_exporter": "python",
   "pygments_lexer": "ipython3",
   "version": "3.11.2"
  }
 },
 "nbformat": 4,
 "nbformat_minor": 5
}
